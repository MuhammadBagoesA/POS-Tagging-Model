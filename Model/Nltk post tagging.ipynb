{
 "cells": [
  {
   "cell_type": "code",
   "execution_count": 7,
   "id": "0ccfe84a-d778-4e5e-b66e-465f036761d4",
   "metadata": {},
   "outputs": [
    {
     "name": "stdout",
     "output_type": "stream",
     "text": [
      "Accuracy: 0.94\n",
      "[('aqil', None), ('ingin', 'RB'), ('pergi', 'VB'), ('ke', 'IN'), ('sekolah', 'NN')]\n"
     ]
    }
   ],
   "source": [
    "import nltk\n",
    "from nltk.tag import UnigramTagger, BigramTagger, TrigramTagger\n",
    "from sklearn.model_selection import train_test_split\n",
    "\n",
    "def read_tsv_file(file_path):\n",
    "    sentences = []\n",
    "    sentence = []\n",
    "\n",
    "    with open(file_path, 'r', encoding='utf-8') as f:\n",
    "        for line in f:\n",
    "            if line.strip(): \n",
    "                word, tag = line.strip().split('\\t')\n",
    "                sentence.append((word, tag))\n",
    "            else:\n",
    "                if sentence:\n",
    "                    sentences.append(sentence)\n",
    "                    sentence = []\n",
    "        if sentence:\n",
    "            sentences.append(sentence)  \n",
    "    return sentences\n",
    "\n",
    "file_path = 'Indonesian_Manually_Tagged_Corpus.tsv'\n",
    "data = read_tsv_file(file_path)\n",
    "\n",
    "train_data, test_data = train_test_split(data, test_size=0.2, random_state=42)\n",
    "\n",
    "unigram_tagger = UnigramTagger(train_data)  \n",
    "bigram_tagger = BigramTagger(train_data, backoff=unigram_tagger) \n",
    "l\n",
    "def evaluate_pos_tagger(tagger, test_data):\n",
    "    accuracy = tagger.accuracy(test_data)\n",
    "    print(f'Accuracy: {accuracy:.2f}')\n",
    "\n",
    "evaluate_pos_tagger(bigram_tagger, test_data)\n",
    "\n",
    "def tag_sentence(tagger, sentence):\n",
    "    tokens = sentence.split()\n",
    "    return tagger.tag(tokens)\n",
    "\n",
    "new_sentence = \"aqil ingin pergi ke sekolah\"\n",
    "tagged_sentence = tag_sentence(bigram_tagger, new_sentence)\n",
    "print(tagged_sentence)\n"
   ]
  },
  {
   "cell_type": "code",
   "execution_count": 5,
   "id": "57bf6120-df66-465f-82f1-4e1dea6a1173",
   "metadata": {},
   "outputs": [
    {
     "name": "stdout",
     "output_type": "stream",
     "text": [
      "Model berhasil disimpan!\n"
     ]
    }
   ],
   "source": [
    "import pickle\n",
    "from nltk.tag import UnigramTagger, BigramTagger, TrigramTagger\n",
    "# Menyimpan model POS tagger ke file\n",
    "with open('pos_tagger_model.pkl', 'wb') as f:\n",
    "    pickle.dump(bigram_tagger, f)\n",
    "\n",
    "print(\"Model berhasil disimpan!\")\n"
   ]
  },
  {
   "cell_type": "code",
   "execution_count": 2,
   "id": "b22f2f6b-6021-40f5-929d-67ee08f8682a",
   "metadata": {},
   "outputs": [
    {
     "name": "stdout",
     "output_type": "stream",
     "text": [
      "Model berhasil dimuat!\n"
     ]
    }
   ],
   "source": [
    "# Ngebuka model\n",
    "import pickle\n",
    "with open('pos_tagger_model.pkl', 'rb') as f:\n",
    "    loaded_tagger = pickle.load(f)\n",
    "\n",
    "print(\"Model berhasil dimuat!\")\n"
   ]
  },
  {
   "cell_type": "code",
   "execution_count": 4,
   "id": "cf2ef2f9-6d71-47e0-9133-e98ad336dfad",
   "metadata": {},
   "outputs": [
    {
     "name": "stdout",
     "output_type": "stream",
     "text": [
      "[('saya', 'PRP'), ('ingin', 'RB'), ('makan', 'VB'), ('nasi', None)]\n"
     ]
    }
   ],
   "source": [
    "#Cara make model\n",
    "new_sentence = \"saya ingin makan nasi\"\n",
    "def tag_sentence(tagger, sentence):\n",
    "    tokens = sentence.split()\n",
    "    return tagger.tag(tokens)\n",
    "tagged_sentence = tag_sentence(loaded_tagger, new_sentence)\n",
    "print(tagged_sentence)\n"
   ]
  },
  {
   "cell_type": "code",
   "execution_count": null,
   "id": "08815a42-6201-4c2c-a1af-9b8da58cee7b",
   "metadata": {},
   "outputs": [],
   "source": []
  }
 ],
 "metadata": {
  "kernelspec": {
   "display_name": "Python 3 (ipykernel)",
   "language": "python",
   "name": "python3"
  },
  "language_info": {
   "codemirror_mode": {
    "name": "ipython",
    "version": 3
   },
   "file_extension": ".py",
   "mimetype": "text/x-python",
   "name": "python",
   "nbconvert_exporter": "python",
   "pygments_lexer": "ipython3",
   "version": "3.10.4"
  }
 },
 "nbformat": 4,
 "nbformat_minor": 5
}
